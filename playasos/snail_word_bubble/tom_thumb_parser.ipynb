{
 "cells": [
  {
   "cell_type": "code",
   "execution_count": 4,
   "metadata": {},
   "outputs": [],
   "source": [
    "import re"
   ]
  },
  {
   "cell_type": "code",
   "execution_count": 2,
   "metadata": {},
   "outputs": [],
   "source": [
    "def processBDF(source, destination):\n",
    "    charArray = []\n",
    "    allChars = []\n",
    "    counter = 0\n",
    "    with open(source, \"r\") as file:\n",
    "        for line in file:\n",
    "            counter += 1\n",
    "            if \"STARTCHAR\" in line:\n",
    "                char = line.split(' ')[1]\n",
    "\n",
    "            if len(line.strip()) == 2: # regex for HEX number\n",
    "                charArray.append(\"0x\" + line.strip())\n",
    "\n",
    "            if \"ENDCHAR\" in line:\n",
    "                lenCharArray = len(charArray)\n",
    "                if lenCharArray < 5:\n",
    "                    charArray = (5-lenCharArray)*['0x00'] + charArray\n",
    "                formattedCharArray = \"{{ {} }}, //{}\".format(\",\".join(charArray), char)\n",
    "                allChars.append(formattedCharArray)\n",
    "                charArray = []\n",
    "\n",
    "    with open(destination, \"w\") as outFile:\n",
    "        outFile.write(\"\\n\".join(allChars))\n"
   ]
  },
  {
   "cell_type": "code",
   "execution_count": 3,
   "metadata": {},
   "outputs": [],
   "source": [
    "processBDF(\"nitram-5p-font.bdf\", \"nitram-byte-array.txt\")"
   ]
  },
  {
   "cell_type": "code",
   "execution_count": null,
   "metadata": {},
   "outputs": [],
   "source": []
  },
  {
   "cell_type": "code",
   "execution_count": null,
   "metadata": {},
   "outputs": [],
   "source": []
  }
 ],
 "metadata": {
  "kernelspec": {
   "display_name": "Python 3",
   "language": "python",
   "name": "python3"
  },
  "language_info": {
   "codemirror_mode": {
    "name": "ipython",
    "version": 3
   },
   "file_extension": ".py",
   "mimetype": "text/x-python",
   "name": "python",
   "nbconvert_exporter": "python",
   "pygments_lexer": "ipython3",
   "version": "3.7.3"
  }
 },
 "nbformat": 4,
 "nbformat_minor": 2
}
